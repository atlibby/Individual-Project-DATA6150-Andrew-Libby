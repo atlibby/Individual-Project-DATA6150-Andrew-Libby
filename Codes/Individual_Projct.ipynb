{
  "nbformat": 4,
  "nbformat_minor": 0,
  "metadata": {
    "colab": {
      "provenance": []
    },
    "kernelspec": {
      "name": "python3",
      "display_name": "Python 3"
    },
    "language_info": {
      "name": "python"
    }
  },
  "cells": [
    {
      "cell_type": "markdown",
      "source": [
        "Question 1 - What is the highest average income among the bottom 10 poorest nations?\n",
        "\n",
        "Thought process: turn wikipedia chart into different CSVs to help answer the next three questions"
      ],
      "metadata": {
        "id": "QthwVF-QU1NY"
      }
    },
    {
      "cell_type": "code",
      "execution_count": 1,
      "metadata": {
        "id": "fCxiuPJ6M9Hj"
      },
      "outputs": [],
      "source": [
        "import pandas as pd\n",
        "import matplotlib.pyplot as plt\n",
        "import seaborn as sns\n",
        "import matplotlib.dates as mdates\n",
        "\n",
        "# take text data and convert to csv\n",
        "df = pd.read_csv('median_mean_wealth.txt', sep=';')\n",
        "\n",
        "df.to_csv('median_mean_wealth.csv', index = True)\n",
        "\n",
        "# TODO: add graph visualizations\n"
      ]
    },
    {
      "cell_type": "markdown",
      "source": [
        "Question 2 - What is the highest average income among the top 10 richest nations?"
      ],
      "metadata": {
        "id": "cFTMRX5SVqKL"
      }
    },
    {
      "cell_type": "code",
      "source": [],
      "metadata": {
        "id": "DPYb5I2bWJSF"
      },
      "execution_count": null,
      "outputs": []
    },
    {
      "cell_type": "markdown",
      "source": [
        "Question 3 - Which countries have the highest gini coefficients and what is the average household income of the top 5 highest gini coefficients?"
      ],
      "metadata": {
        "id": "C8uwtA__WJr6"
      }
    },
    {
      "cell_type": "code",
      "source": [],
      "metadata": {
        "id": "Za36GvNIXPoF"
      },
      "execution_count": null,
      "outputs": []
    }
  ]
}